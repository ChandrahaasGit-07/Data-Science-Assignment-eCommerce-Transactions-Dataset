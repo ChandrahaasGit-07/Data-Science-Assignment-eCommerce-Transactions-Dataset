{
 "cells": [
  {
   "cell_type": "code",
   "execution_count": 1,
   "id": "04a6a12c-6f18-4db2-81a0-350176254c3e",
   "metadata": {},
   "outputs": [],
   "source": [
    "import pandas as pd\n",
    "import numpy as np\n",
    "import matplotlib.pyplot as plt\n",
    "import seaborn as sns"
   ]
  },
  {
   "cell_type": "code",
   "execution_count": 2,
   "id": "1752b16d-4b3d-4f72-afec-47026566ef59",
   "metadata": {},
   "outputs": [
    {
     "name": "stdout",
     "output_type": "stream",
     "text": [
      "    Unnamed: 0 ?CustomerID        CustomerName         Region  SignupDate  \\\n",
      "0            1       C0001    Lawrence Carroll  South America  10-07-2022   \n",
      "1            2       C0002      Elizabeth Lutz           Asia  13-02-2022   \n",
      "2            3       C0003      Michael Rivera  South America  07-03-2024   \n",
      "3            4       C0004  Kathleen Rodriguez  South America  09-10-2022   \n",
      "4            5       C0005         Laura Weber           Asia  15-08-2022   \n",
      "..         ...         ...                 ...            ...         ...   \n",
      "95          96       C0096    Benjamin Mcclure  South America  18-11-2022   \n",
      "96          97       C0097           Tina Ford           Asia  18-12-2023   \n",
      "97          98       C0098       Laura Gilbert  North America  21-10-2024   \n",
      "98          99       C0099        Rodney Eaton  South America  29-01-2023   \n",
      "99         100       C0100       Clinton Gomez         Europe  16-03-2023   \n",
      "\n",
      "   ?ProductID              ProductName     Category   Price  \n",
      "0        P001     ActiveWear Biography        Books  169.30  \n",
      "1        P002    ActiveWear Smartwatch  Electronics  346.30  \n",
      "2        P003  ComfortLiving Biography        Books   44.12  \n",
      "3        P004            BookWorld Rug   Home Decor   95.69  \n",
      "4        P005          TechPro T-Shirt     Clothing  429.31  \n",
      "..        ...                      ...          ...     ...  \n",
      "95       P096     SoundWave Headphones  Electronics  307.47  \n",
      "96       P097       BookWorld Cookbook        Books  319.34  \n",
      "97       P098         SoundWave Laptop  Electronics  299.93  \n",
      "98       P099   SoundWave Mystery Book        Books  354.29  \n",
      "99       P100        HomeSense Sweater     Clothing  126.34  \n",
      "\n",
      "[100 rows x 9 columns]\n"
     ]
    }
   ],
   "source": [
    "df = pd.read_csv('Combine.csv')\n",
    "print(df)"
   ]
  },
  {
   "cell_type": "code",
   "execution_count": 6,
   "id": "31e6e630-2973-456d-a724-01c66529a2af",
   "metadata": {},
   "outputs": [
    {
     "name": "stdout",
     "output_type": "stream",
     "text": [
      "Lookalike customers for C0001: Index(['C0001', 'C0020', 'C0006', 'C0021', 'C0017'], dtype='object', name='?CustomerID')\n"
     ]
    }
   ],
   "source": [
    "import pandas as pd\n",
    "from sklearn.preprocessing import LabelEncoder, OneHotEncoder\n",
    "from sklearn.cluster import KMeans\n",
    "import numpy as np\n",
    "from sklearn.metrics.pairwise import cosine_similarity\n",
    "\n",
    "# Load the dataset\n",
    "df = pd.read_csv('Combine.csv')\n",
    "\n",
    "# Handle missing values (if any)\n",
    "df = df.dropna()\n",
    "\n",
    "# Label encoding for categorical data like Region, Category\n",
    "label_encoder = LabelEncoder()\n",
    "\n",
    "# Encode 'Region' and 'Category'\n",
    "df['Region'] = label_encoder.fit_transform(df['Region'])\n",
    "df['Category'] = label_encoder.fit_transform(df['Category'])\n",
    "\n",
    "# One-hot encoding for 'ProductName' (if we want to treat product features)\n",
    "df = pd.get_dummies(df, columns=['ProductName', 'Category'], drop_first=True)\n",
    "\n",
    "# Feature engineering: Extract signup duration in days\n",
    "df['SignupDate'] = pd.to_datetime(df['SignupDate'], format='%d-%m-%Y')\n",
    "df['SignupDuration'] = (pd.to_datetime('today') - df['SignupDate']).dt.days\n",
    "\n",
    "# Create the customer-product interaction matrix (customer as rows, product as columns)\n",
    "customer_product_df = df.pivot_table(index='?CustomerID', columns='?ProductID', values='Price', aggfunc='sum', fill_value=0)\n",
    "\n",
    "# Normalize the interaction matrix if necessary\n",
    "from sklearn.preprocessing import StandardScaler\n",
    "scaler = StandardScaler()\n",
    "customer_product_scaled = scaler.fit_transform(customer_product_df)\n",
    "\n",
    "# Calculate cosine similarity to find similar customers\n",
    "similarity_matrix = cosine_similarity(customer_product_scaled)\n",
    "\n",
    "# Example: Find similar customers to a specific customer (e.g., Customer 'C0001')\n",
    "customer_index = customer_product_df.index.get_loc('C0001')\n",
    "similar_customers = similarity_matrix[customer_index]\n",
    "\n",
    "# Sort the customers based on similarity and get the top 5 lookalike customers\n",
    "lookalike_customers = customer_product_df.index[np.argsort(similarity_matrix[customer_index])[::-1][:5]]\n",
    "print(\"Lookalike customers for C0001:\", lookalike_customers)\n"
   ]
  },
  {
   "cell_type": "code",
   "execution_count": null,
   "id": "11156d84-13b8-4417-8d84-3951dd421b27",
   "metadata": {},
   "outputs": [],
   "source": []
  }
 ],
 "metadata": {
  "kernelspec": {
   "display_name": "Python 3 (ipykernel)",
   "language": "python",
   "name": "python3"
  },
  "language_info": {
   "codemirror_mode": {
    "name": "ipython",
    "version": 3
   },
   "file_extension": ".py",
   "mimetype": "text/x-python",
   "name": "python",
   "nbconvert_exporter": "python",
   "pygments_lexer": "ipython3",
   "version": "3.11.5"
  }
 },
 "nbformat": 4,
 "nbformat_minor": 5
}
